{
 "cells": [
  {
   "cell_type": "markdown",
   "metadata": {},
   "source": [
    "# I. HÁZI FELADAT\n",
    "\n",
    "Ezt a feladatsort tetszőleges programozási nyelven meg lehet oldani, de a forráskódot minden esetben mellékelni kell. A python és octave megoldások programkódja kerülhet a jupyter notebookba. A programok legyenek modulárisak, használjanak függvényeket! A kimeneti adatok ábrázolásához minden esetben használjuk a jupyter notebookot! Az ábrák legyenek áttekinthetőek, és szerepeljen rajtuk tengelyfelirat!"
   ]
  },
  {
   "cell_type": "markdown",
   "metadata": {},
   "source": [
    "# Függvényillesztés a lineáris $\\chi^2$ módszerrel\n",
    "\n",
    "\n",
    "A lineáris $\\chi^2$-illesztés módszere olyan modellek paramétereinek meghatározására alkalmas, ahol az illesztendő függvény felírható tetszőleges függvények lineárkombinációjaként, feltéve, hogy az illesztési paraméterek csak a lineárkombináció együtthatóinak szerepét töltik be, vagyis\n",
    "\n",
    "$$ y(\\mathbf{a}, \\mathbf{x}) = \\sum_k a_k f_k(\\mathbf{x}), $$\n",
    "\n",
    "ahol $\\mathbf{a}$ a keresett paraméterekből alkotott vektor vektor, $\\mathbf{x}$ pedig a független változó. További feltétel, hogy az $f_k(\\mathbf{x})$ többváltozós függvények az összes $\\textbf{x}$ mérési pontban kiértékelhetők legyenek. Amennyiben a mérési hiba gauss-i, úgy az $y_i$ mért értékek hibáját egy $\\sigma_i$ értékkel jellemezhetjük, ahol az $i$ index a mérési pontokon fut. A függvényillesztés jóságát a\n",
    "\n",
    "$$\n",
    "\\chi^2(\\mathbf{a})\n",
    "    = \\sum_i \\frac{\\left[ y(\\mathbf{a}, \\mathbf{x}_i) - y_i \\right]^2}{\\sigma_i^2}\n",
    "    = \\sum_i \\frac{\\left[ \\sum_k a_k f_k(\\mathbf{x}_i) - y_i \\right]^2}{\\sigma_i^2}\n",
    "$$\n",
    "\n",
    "mennyiséggel jellemezhetjük, mely Gauss-eloszlású hiba esetében egzaktul következik a _maximum likelihood_ módszerből. A legjobban illeszkedő modellre a $\\chi^2$ kifejezésének értéke minimális, azaz azokat az $a_k$ paramétereket keressük, melyek mellett $\\chi^2$ parciális deriváltjai eltűnnek:\n",
    "\n",
    "$$\n",
    "\\frac{\\partial\\chi^2(\\mathbf{a})}{\\partial a_k} = 0\n",
    "$$\n",
    "\n",
    "minden $a_k$-ra. A parciális deriváltakra így felírt egyenletrendszer általában nem lineáris, így a megoldására közvetlen gyökkereső módszerekkel nem sok esélyünk van. Amennyiben azonban az $y(\\mathbf{a}, \\mathbf{x})$ modellt a fent bevezett lineárkombináció alakjában adjuk meg, úgy könnyen belátható, hogy a deriváltak nullává tétele a kövezkező egyenletrendszerre vezet:\n",
    "\n",
    "$$\n",
    "\\frac{\\partial\\chi^2(\\mathbf{a})}{\\partial a_k} =\n",
    "    2 \\cdot \\sum_i \\left[ \\frac{1}{\\sigma_i^2} \\cdot \n",
    "        \\left( \n",
    "            \\sum_j a_j f_j(\\mathbf{x}_i) - y_i\n",
    "        \\right) \\cdot f_k(\\mathbf{x}_i) \\right] = 0.\n",
    "$$\n",
    "\n",
    "Ez már lineáris egyenletrendszer az $a_k$ együtthatókra, hiszen az $y_i$ mért értékek és az $f_k(\\mathbf{x}_i)$ bázisfüggvények az $\\mathbf{x}_i$ mérési pontokban ismertek. Könnyű belátni, hogy némi átírás után bevezethető egy $X_{ik}$, ún. tervmátrix, és egy $b_i$ hibával redukált vektor:\n",
    "\n",
    "$$\n",
    "X_{ik} = \\frac{f_k(\\mathbf{x}_i)}{\\sigma_i} \\quad \\quad \\quad\n",
    "b_i = \\frac{y_i}{\\sigma_i}.\n",
    "$$\n",
    "\n",
    "A parciális deriváltak nullává tételével felírt egyenletrendszer ezekkel a jelölésekkel\n",
    "\n",
    "$$\n",
    "\\frac{\\partial\\chi^2(\\mathbf{a})}{\\partial a_k} =\n",
    "    \\sum_i \\left[ \\left( \\sum_j a_j X_{ij} - b_i \\right) X_{ik} \\right] = 0\n",
    "$$\n",
    "\n",
    "alakúnak adódik, mely átrendezés után \n",
    "\n",
    "$$\n",
    "\\sum_i \\sum_j X_{ij} X_{ik} a_j  = \\sum_i X_{ik} b_i,\n",
    "$$\n",
    "\n",
    "vagy mátrixos írásmóddal\n",
    "\n",
    "$$\n",
    "\\mathbf{X}^{T} \\mathbf{X} \\mathbf{a} = \\mathbf{X}^{T} \\mathbf{b}\n",
    "$$\n",
    "\n",
    "alakot ölt. Az egyenletet $\\mathbf{a}$-ra megoldva megkapjuk a $\\chi^2$-et minimalizáló paramétereket.\n",
    "\n",
    "## A redukált $\\chi^2$\n",
    "\n",
    "Mivel a $\\chi^2$-re felírt kifejezés függ a mérési pontok számától, ezért a $\\chi^2$ értéke nem használható arra, hogy két, különböző mérési sorozat esetében megállapítsuk, hogy ugyanaz a modell mennyire jól illeszkedik az egyik vagy másik adatsorra. Éppen ezért érdemes bevezetni a redukált $\\chi^2$ nevű mennyiséget:\n",
    "\n",
    "$$\n",
    "\\chi^2_\\nu = \\frac{\\chi^2}{\\nu},\n",
    "$$\n",
    "\n",
    "ahol $\\nu = N - M$ a szabadsági fokok száma, azaz a mérési adatpontok száma mínusz az illesztendő paraméterek száma. Jó illesztésről akkor beszélhetünk, ha $\\chi^2_\\nu \\approx 1$.\n",
    "\n",
    "## Az illesztett paraméterek aszimptotikus hibája\n",
    "\n",
    "A lineáris $\\chi^2$ módszerrel illesztett modellek paramétereinek hibáját úgy becsülthetjük meg, hogy tekintjük a $\\chi^2(\\mathbf{a})$ függvény második parciális deriváltjaiból alkotott mátrixot, hiszen a $\\chi^2$ kifejezésének Taylor-sorában az ennek megfelelő tag nem tűnik el minimum környezetében. Tekintve, hogy\n",
    "\n",
    "$$\n",
    "\\frac{\\partial^2 \\chi^2(\\mathbf{a})}{\\partial a_k \\partial a_l} =\n",
    "    \\sum_i X_{ij} X_{ik} = \\sum_i \\frac{f_k(\\mathbf{x}_i) f_l(\\mathbf{x}_i)}{\\sigma_i^2} =\n",
    "    \\alpha_{kl},\n",
    "$$\n",
    "\n",
    "az így bevezett $\\mathbf{\\alpha} = \\mathbf{X}^{T} \\mathbf{X}$ szimmetrikus mátrixról belátható, hogy annak $\\mathbf{C} = \\mathbf{\\alpha}^{-1}$ inverze, az ún. kovarianciamátrix, jól jellemzi az illesztett paraméterek hibáját és kovarianciáját. Az $a_k$ paraméter hibája egyszerűen $\\sigma_{a_k}^2 = C_{kk}$, míg az $a_k$ és $a_l$ paraméterek kovarianciája a $ \\textrm{cov}(a_k, a_l) = C_{kl}$ mátrixelem. Az így kiszámított hibák ún. aszimptotikus hibák, hiszen csupán a $\\chi^2$ felület másodrendű közelítését veszik figyelembe a minimumhely környezetében.\n",
    "\n",
    "## Hibabecslés a bootstrap módszerrel\n",
    "\n",
    "Az illesztett paraméterek hibájának pontos megbecslését olyan Monte Carlo módszerrel végezhetnénk el, mely képes mintavételezni az illesztési paraméterek pontos $p(\\mathbf{a})$ együttes eloszlásfüggvényét. Ehelyett egy gyakran használt, egyszerűbb, de igen hasznos eljárás a [bootstrap](https://outdoors.stackexchange.com/questions/11709/whats-the-purpose-of-the-sling-on-the-heel-of-boots) módszer, ahol az illesztést a mérési adatok egy véletlen részhalmazára (pl. egyharmadára) végezzük el, majd egy másik véletlen részhalmazt választunk, mellyel ismét elvégezzük az illesztést, és így tovább. Kellően sokszor megismételve az eljárást az illesztési paraméterekre egy-egy eloszlást kapunk, melyeknek meghatározhatjuk a várható értékét, szórását és kovarianciáit. A legjobban illeszkedő modellparamétereknek tekinthetjük az eloszlások várható értékét, míg illesztési hibának a szórásukat.\n",
    "\n",
    "\n",
    "## Irodalomjegyzék\n",
    "\n",
    "* Press, Teukolsky, Vetterling & Flannery: Numerical Recipes (in C), 3. kiadás, Cambridge University Press, 15.4. fejezet"
   ]
  },
  {
   "cell_type": "markdown",
   "metadata": {},
   "source": [
    "# Feladatok\n",
    "\n",
    "## 1. feladat\n",
    "\n",
    "Az alábbi függvény egy véletlenszerű adatsort generál. Írjunk rövid programot, mely az adatokra parabolát illeszt! A program ne beépített függvényillesztő rutint használjon, hanem végezze el a számolást a fent definiált $X_{ij}$ mátrix előállításával, és felírt lineáris egyenletrendszer megoldásával! Az egyenletrendszer megoldására tetszőleges függvénykönyvtár használható. Ábrázoljuk az adatokat és az eredményt! Próbáljuk meg úgy megírni a programot, hogy az tetszőleges fokszámú polinom illesztésére is alkalmas legyen! Számítsuk ki a legjobban illeszkedő modell esetében a redukált $\\chi^2$ értékét!"
   ]
  },
  {
   "cell_type": "code",
   "execution_count": null,
   "metadata": {},
   "outputs": [],
   "source": [
    "import numpy as np\n",
    "import matplotlib.pyplot as plt\n",
    "\n",
    "def some_random_coeffs():\n",
    "    a = 10 * np.random.rand() - 2.5\n",
    "    b = 20 * np.random.rand() - 5\n",
    "    c = 100 * np.random.rand() - 50\n",
    "    return a, b, c\n",
    "\n",
    "def some_random_data(a, b, c, N):\n",
    "    x = np.linspace(-N, N, 2 * N + 1)\n",
    "    sigma = 10 * (np.random.rand(x.shape[0]) + 1)\n",
    "    y = np.random.normal(a * x**2 + b * x + c, sigma)\n",
    "    return x, y, sigma\n",
    "\n",
    "def random_data_with_outliers(a, b, c, N, M):\n",
    "    x, y, sigma = some_random_data(a, b, c, N)\n",
    "    idx = np.random.randint(0, 2 * N, M)\n",
    "    y[idx] = np.min(y) + np.random.rand() * (np.max(y) - np.min(y))\n",
    "    return x, y, sigma"
   ]
  },
  {
   "cell_type": "code",
   "execution_count": null,
   "metadata": {},
   "outputs": [],
   "source": [
    "a, b, c = some_random_coeffs()\n",
    "x, y, sigma = some_random_data(a, b, c, 10)\n",
    "np.savetxt('adatsor.txt', np.transpose([x, y, sigma]))"
   ]
  },
  {
   "cell_type": "code",
   "execution_count": null,
   "metadata": {},
   "outputs": [],
   "source": [
    "# ábra a mérési pontokkal és hibaintervallumokkal"
   ]
  },
  {
   "cell_type": "code",
   "execution_count": null,
   "metadata": {},
   "outputs": [],
   "source": [
    "# az illesztést elvégző program helye"
   ]
  },
  {
   "cell_type": "code",
   "execution_count": null,
   "metadata": {},
   "outputs": [],
   "source": [
    "# ábra a legjobban illeszkedő modellel"
   ]
  },
  {
   "cell_type": "code",
   "execution_count": null,
   "metadata": {},
   "outputs": [],
   "source": [
    "# a redukált chi^2 értéke a legjobban illeszkedő modell esetére"
   ]
  },
  {
   "cell_type": "markdown",
   "metadata": {},
   "source": [
    "## 2. feladat\n",
    "\n",
    "Az alábbi függvényhívás olyan adatsort generál, amely kilógó (a megadott hibaértékkel nem jól jellemzett, vagy sok szigma értékkel eltérő) adatpontokat is tartalmaz. Írjunk programot, mely a $3\\sigma$-nál jobban kilógó pontok elhagyásával, két lépésben, illetve iteratív módon végzi el a parabolaillesztést!"
   ]
  },
  {
   "cell_type": "code",
   "execution_count": null,
   "metadata": {},
   "outputs": [],
   "source": [
    "a, b, c = some_random_coeffs()\n",
    "x, y, sigma = random_data_with_outliers(a, b, c, 10, 3)"
   ]
  },
  {
   "cell_type": "markdown",
   "metadata": {},
   "source": [
    "## 3. feladat\n",
    "\n",
    "Írjuk függvényt, mely meghatározza az illesztett paraméterek aszimptotikus hibáját és kovarianciáját."
   ]
  },
  {
   "cell_type": "code",
   "execution_count": null,
   "metadata": {},
   "outputs": [],
   "source": [
    "# a szórások és aszimptotikus hibák meghatározása"
   ]
  },
  {
   "cell_type": "markdown",
   "metadata": {},
   "source": [
    "## 4. feladat\n",
    "\n",
    "Határozzuk meg a kilógó pontokat is tartalmazó adatsor esetében az illesztett parabola paramétereinek eloszlását és hibáját a bootstrap módszer segítségével. A bootstrap eljárás során az illesztést többször megismételjük oly módon, hogy mindig csak a mérési pontok egy véletlen részhalmazát (pl. 60%-át) használjuk fel az illesztéshez. Az így kapott illesztési paraméterekből készítsünk hisztogramot, valamint számítsuk ki a paraméterek várható értékét és szórását! Hasonlítsuk össze a kapott értékeket a kovarianciamátrixból számolt aszimptotikus hibával."
   ]
  },
  {
   "cell_type": "code",
   "execution_count": null,
   "metadata": {},
   "outputs": [],
   "source": [
    "# a bootstrap módszer megvalósítása"
   ]
  },
  {
   "cell_type": "code",
   "execution_count": null,
   "metadata": {},
   "outputs": [],
   "source": [
    "# a bootstrap módszerrel kapott illesztési paraméterek eloszlása -- ábrák"
   ]
  },
  {
   "cell_type": "code",
   "execution_count": null,
   "metadata": {},
   "outputs": [],
   "source": [
    "# a várható értékek, szórások és kovarianciák meghatározása"
   ]
  },
  {
   "cell_type": "markdown",
   "metadata": {},
   "source": [
    "## 5. feladat\n",
    "\n",
    "A mellékelt fájlok olyan adatokat tartalmaznak, ahol öt független változó és egy skalár mért érték között van összefüggés. Írjunk függvényt, mely többváltozós polinomokat illeszt az adatokra a lineáris $\\chi^2$ módszer segítségével. A többváltozós polinomok olyan összeg alakban felírt formulák, ahol az összeg minden tagja $k$ változó egész kitevőjű hatványainak szorzata. A többváltozós polinom fokszámát az a tag adja, melyben a hatványkitevők összege maximális. Például a\n",
    "\n",
    "$$\n",
    "p(x, y, z) = 3 + 5 x^2 + 4 x y z + 6 y z^3\n",
    "$$\n",
    "\n",
    "háromváltozós, negyedfokú polinom, mely vegyes tagokat is tartalmaz.\n",
    "\n",
    "Az illesztés elvégzése után határozzuk meg az illesztési paraméterek hibáit, és keressünk módot arra, hogy miként ábrázolható a többváltozós illesztés jósága!\n",
    "\n",
    "Adatfájlok:\n",
    "    \n",
    "* [small.dat](www.vo.elte.hu/~dobos/teaching/fiznum2019/data/small.dat.gz)\n",
    "* [big.dat](www.vo.elte.hu/~dobos/teaching/fiznum2019/data/big.dat.gz)\n",
    "\n",
    "A fájlok oszlopai:\n",
    "\n",
    "* 1-5: független változó komponensei\n",
    "* 6: függő változó (mért érték)\n",
    "* 7: mérési hiba"
   ]
  },
  {
   "cell_type": "code",
   "execution_count": null,
   "metadata": {},
   "outputs": [],
   "source": [
    "# többváltozós illesztés"
   ]
  }
 ],
 "metadata": {
  "kernelspec": {
   "display_name": "Python 3",
   "language": "python",
   "name": "python3"
  },
  "language_info": {
   "codemirror_mode": {
    "name": "ipython",
    "version": 3
   },
   "file_extension": ".py",
   "mimetype": "text/x-python",
   "name": "python",
   "nbconvert_exporter": "python",
   "pygments_lexer": "ipython3",
   "version": "3.6.6"
  }
 },
 "nbformat": 4,
 "nbformat_minor": 2
}
